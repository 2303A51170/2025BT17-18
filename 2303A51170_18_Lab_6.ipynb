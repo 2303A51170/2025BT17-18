{
  "nbformat": 4,
  "nbformat_minor": 0,
  "metadata": {
    "colab": {
      "provenance": [],
      "authorship_tag": "ABX9TyNOiT2wwiMoUlqQGBJqvXfS",
      "include_colab_link": true
    },
    "kernelspec": {
      "name": "python3",
      "display_name": "Python 3"
    },
    "language_info": {
      "name": "python"
    }
  },
  "cells": [
    {
      "cell_type": "markdown",
      "metadata": {
        "id": "view-in-github",
        "colab_type": "text"
      },
      "source": [
        "<a href=\"https://colab.research.google.com/github/2303A51170/2025BT17-18/blob/main/2303A51170_18_Lab_6.ipynb\" target=\"_parent\"><img src=\"https://colab.research.google.com/assets/colab-badge.svg\" alt=\"Open In Colab\"/></a>"
      ]
    },
    {
      "cell_type": "code",
      "execution_count": 1,
      "metadata": {
        "colab": {
          "base_uri": "https://localhost:8080/"
        },
        "id": "E4NREObojaf8",
        "outputId": "0e748948-4c4d-49f7-e264-f46c92b70693"
      },
      "outputs": [
        {
          "output_type": "stream",
          "name": "stdout",
          "text": [
            "Before Cleaning - Missing Values:\n",
            " survived         0\n",
            "pclass           0\n",
            "sex              0\n",
            "age            177\n",
            "sibsp            0\n",
            "parch            0\n",
            "fare             0\n",
            "embarked         2\n",
            "class            0\n",
            "who              0\n",
            "adult_male       0\n",
            "deck           688\n",
            "embark_town      2\n",
            "alive            0\n",
            "alone            0\n",
            "dtype: int64\n",
            "\n",
            "After Cleaning - Missing Values:\n",
            " survived       0\n",
            "pclass         0\n",
            "sex            0\n",
            "age            0\n",
            "sibsp          0\n",
            "parch          0\n",
            "fare           0\n",
            "embarked       0\n",
            "class          0\n",
            "who            0\n",
            "adult_male     0\n",
            "embark_town    2\n",
            "alive          0\n",
            "alone          0\n",
            "dtype: int64\n"
          ]
        }
      ],
      "source": [
        "import seaborn as sns\n",
        "import pandas as pd\n",
        "\n",
        "# Load seaborn Titanic dataset\n",
        "titanic = sns.load_dataset(\"titanic\")\n",
        "\n",
        "print(\"Before Cleaning - Missing Values:\\n\", titanic.isnull().sum())\n",
        "\n",
        "# Fill missing Age with mean\n",
        "titanic['age'] = titanic['age'].fillna(titanic['age'].mean())\n",
        "\n",
        "# Fill missing Embarked with mode\n",
        "titanic['embarked'] = titanic['embarked'].fillna(titanic['embarked'].mode()[0])\n",
        "\n",
        "# Drop irrelevant column (deck is similar to cabin here)\n",
        "titanic = titanic.drop(columns=['deck'], errors='ignore')\n",
        "\n",
        "print(\"\\nAfter Cleaning - Missing Values:\\n\", titanic.isnull().sum())"
      ]
    },
    {
      "cell_type": "code",
      "source": [
        "import pandas as pd\n",
        "\n",
        "data = {\n",
        "    'Student_ID': [101, 102, 103, 104, 105],\n",
        "    'Name': ['Alice', 'Bob', 'Charlie', 'David', 'Eva'],\n",
        "    'Gender': ['M', 'Male', 'male', 'F', 'Female']\n",
        "}\n",
        "\n",
        "df = pd.DataFrame(data)\n",
        "print(\"Before Cleaning:\\n\", df)\n",
        "\n",
        "# Standardize Gender column\n",
        "df['Gender'] = df['Gender'].str.strip().str.capitalize()  # Makes 'Male'/'Female'\n",
        "\n",
        "print(\"\\nAfter Cleaning:\\n\", df)\n"
      ],
      "metadata": {
        "colab": {
          "base_uri": "https://localhost:8080/"
        },
        "id": "P_zbYcrOjpvk",
        "outputId": "59670b03-05ad-48b9-a002-8c8f348ac3ab"
      },
      "execution_count": 2,
      "outputs": [
        {
          "output_type": "stream",
          "name": "stdout",
          "text": [
            "Before Cleaning:\n",
            "    Student_ID     Name  Gender\n",
            "0         101    Alice       M\n",
            "1         102      Bob    Male\n",
            "2         103  Charlie    male\n",
            "3         104    David       F\n",
            "4         105      Eva  Female\n",
            "\n",
            "After Cleaning:\n",
            "    Student_ID     Name  Gender\n",
            "0         101    Alice       M\n",
            "1         102      Bob    Male\n",
            "2         103  Charlie    Male\n",
            "3         104    David       F\n",
            "4         105      Eva  Female\n"
          ]
        }
      ]
    }
  ]
}